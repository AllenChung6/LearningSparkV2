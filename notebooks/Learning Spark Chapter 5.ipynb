{
 "cells": [
  {
   "cell_type": "markdown",
   "id": "8c039dc8",
   "metadata": {},
   "source": [
    "# Chapter 5: Spark SQL and DataFrames: Interacting with External Data Sources"
   ]
  },
  {
   "cell_type": "code",
   "execution_count": 1,
   "id": "ea54d0df",
   "metadata": {},
   "outputs": [],
   "source": [
    "from pyspark.sql.types import *\n",
    "from pyspark.sql import SparkSession\n",
    "import pandas as pd\n",
    "from pyspark.sql.functions import col, pandas_udf"
   ]
  },
  {
   "cell_type": "code",
   "execution_count": 2,
   "id": "ea942505",
   "metadata": {},
   "outputs": [
    {
     "name": "stderr",
     "output_type": "stream",
     "text": [
      "22/04/22 09:14:59 WARN Utils: Your hostname, Zipcoders-MacBook-Pro.local resolves to a loopback address: 127.0.0.1; using 192.168.0.77 instead (on interface en0)\n",
      "22/04/22 09:14:59 WARN Utils: Set SPARK_LOCAL_IP if you need to bind to another address\n",
      "Using Spark's default log4j profile: org/apache/spark/log4j-defaults.properties\n",
      "Setting default log level to \"WARN\".\n",
      "To adjust logging level use sc.setLogLevel(newLevel). For SparkR, use setLogLevel(newLevel).\n",
      "22/04/22 09:15:00 WARN NativeCodeLoader: Unable to load native-hadoop library for your platform... using builtin-java classes where applicable\n"
     ]
    }
   ],
   "source": [
    "spark = (SparkSession\n",
    "      .builder\n",
    "      .appName(\"SparkSQLExampleApp\")\n",
    "      .getOrCreate())"
   ]
  },
  {
   "cell_type": "markdown",
   "id": "f0f691b4",
   "metadata": {},
   "source": [
    "Spark SQL UDFs"
   ]
  },
  {
   "cell_type": "code",
   "execution_count": 3,
   "id": "2741737a",
   "metadata": {},
   "outputs": [],
   "source": [
    " # Create cubed function\n",
    "def cubed(s): \n",
    "    return s*s*s"
   ]
  },
  {
   "cell_type": "code",
   "execution_count": 4,
   "id": "cdb9514b",
   "metadata": {},
   "outputs": [
    {
     "data": {
      "text/plain": [
       "<function __main__.cubed(s)>"
      ]
     },
     "execution_count": 4,
     "metadata": {},
     "output_type": "execute_result"
    }
   ],
   "source": [
    "# Register UDF\n",
    "spark.udf.register(\"cubed\", cubed, LongType())"
   ]
  },
  {
   "cell_type": "code",
   "execution_count": 5,
   "id": "2b03a843",
   "metadata": {},
   "outputs": [],
   "source": [
    "# Generate temporary view\n",
    "spark.range(1, 9).createOrReplaceTempView(\"udf_test\")"
   ]
  },
  {
   "cell_type": "code",
   "execution_count": 6,
   "id": "eec0f221",
   "metadata": {},
   "outputs": [
    {
     "name": "stderr",
     "output_type": "stream",
     "text": [
      "\r",
      "[Stage 0:>                                                          (0 + 4) / 4]\r"
     ]
    },
    {
     "name": "stdout",
     "output_type": "stream",
     "text": [
      "+---+--------+\n",
      "| id|id_cubed|\n",
      "+---+--------+\n",
      "|  1|       1|\n",
      "|  2|       8|\n",
      "|  3|      27|\n",
      "|  4|      64|\n",
      "|  5|     125|\n",
      "|  6|     216|\n",
      "|  7|     343|\n",
      "|  8|     512|\n",
      "+---+--------+\n",
      "\n"
     ]
    },
    {
     "name": "stderr",
     "output_type": "stream",
     "text": [
      "\r",
      "                                                                                \r"
     ]
    }
   ],
   "source": [
    "# Query the cubed UDF\n",
    "spark.sql(\"SELECT id, cubed(id) AS id_cubed FROM udf_test\").show()"
   ]
  },
  {
   "cell_type": "code",
   "execution_count": 7,
   "id": "48ce438d",
   "metadata": {},
   "outputs": [],
   "source": [
    "# scalar Pandas UDF for Spark 3.0\n",
    "def cubed(a: pd.Series) -> pd.Series: \n",
    "    return a*a*a"
   ]
  },
  {
   "cell_type": "code",
   "execution_count": 8,
   "id": "56f9e89f",
   "metadata": {},
   "outputs": [],
   "source": [
    "# Create the pandas UDF for the cubed function\n",
    "# cubed_udf = pandas_udf(cubed, returnType=LongType())"
   ]
  },
  {
   "cell_type": "code",
   "execution_count": 9,
   "id": "951d504c",
   "metadata": {},
   "outputs": [],
   "source": [
    "# Create a Pandas Series\n",
    "x = pd.Series([1, 2, 3])"
   ]
  },
  {
   "cell_type": "code",
   "execution_count": 10,
   "id": "7d0f4822",
   "metadata": {},
   "outputs": [
    {
     "name": "stdout",
     "output_type": "stream",
     "text": [
      "0     1\n",
      "1     8\n",
      "2    27\n",
      "dtype: int64\n"
     ]
    }
   ],
   "source": [
    "# The function for a pandas_udf executed with local Pandas data\n",
    "print(cubed(x))"
   ]
  },
  {
   "cell_type": "code",
   "execution_count": 11,
   "id": "285427e4",
   "metadata": {},
   "outputs": [],
   "source": [
    "# Create a Spark DataFrame, 'spark' is an existing SparkSession\n",
    "#df = spark.range(1, 4)"
   ]
  },
  {
   "cell_type": "code",
   "execution_count": 12,
   "id": "2e42b40c",
   "metadata": {},
   "outputs": [],
   "source": [
    "# Execute function as a Spark vectorized UDF\n",
    "#df.select(\"id\", cubed_udf(col(\"id\"))).show()"
   ]
  },
  {
   "cell_type": "code",
   "execution_count": 13,
   "id": "e95b54df",
   "metadata": {},
   "outputs": [],
   "source": [
    "# Higher-Order Functions"
   ]
  },
  {
   "cell_type": "code",
   "execution_count": 14,
   "id": "879fedb4",
   "metadata": {},
   "outputs": [],
   "source": [
    "schema = StructType([StructField(\"celsius\", ArrayType(IntegerType()))])"
   ]
  },
  {
   "cell_type": "code",
   "execution_count": 15,
   "id": "8e9965ef",
   "metadata": {},
   "outputs": [],
   "source": [
    "t_list = [[35, 36, 32, 30, 40, 42, 38]], [[31, 32, 34, 55, 56]]"
   ]
  },
  {
   "cell_type": "code",
   "execution_count": 16,
   "id": "8162433a",
   "metadata": {},
   "outputs": [],
   "source": [
    "t_c = spark.createDataFrame(t_list, schema)"
   ]
  },
  {
   "cell_type": "code",
   "execution_count": 17,
   "id": "928168d4",
   "metadata": {},
   "outputs": [],
   "source": [
    "t_c.createOrReplaceTempView(\"tC\")"
   ]
  },
  {
   "cell_type": "code",
   "execution_count": 18,
   "id": "bb93a008",
   "metadata": {},
   "outputs": [
    {
     "name": "stderr",
     "output_type": "stream",
     "text": [
      "\r",
      "[Stage 1:>                                                          (0 + 1) / 1]\r"
     ]
    },
    {
     "name": "stdout",
     "output_type": "stream",
     "text": [
      "+--------------------+\n",
      "|             celsius|\n",
      "+--------------------+\n",
      "|[35, 36, 32, 30, ...|\n",
      "|[31, 32, 34, 55, 56]|\n",
      "+--------------------+\n",
      "\n"
     ]
    },
    {
     "name": "stderr",
     "output_type": "stream",
     "text": [
      "\r",
      "                                                                                \r"
     ]
    }
   ],
   "source": [
    "# Show the DataFrame\n",
    "t_c.show()"
   ]
  },
  {
   "cell_type": "markdown",
   "id": "b164411e",
   "metadata": {},
   "source": [
    "transform()\n",
    "The transform() function produces an array by applying a function to each element\n",
    "of the input array (similar to a map() function):"
   ]
  },
  {
   "cell_type": "code",
   "execution_count": 19,
   "id": "e003c66c",
   "metadata": {},
   "outputs": [
    {
     "name": "stdout",
     "output_type": "stream",
     "text": [
      "+--------------------+--------------------+\n",
      "|             celsius|          fahrenheit|\n",
      "+--------------------+--------------------+\n",
      "|[35, 36, 32, 30, ...|[95, 96, 89, 86, ...|\n",
      "|[31, 32, 34, 55, 56]|[87, 89, 93, 131,...|\n",
      "+--------------------+--------------------+\n",
      "\n"
     ]
    }
   ],
   "source": [
    "spark.sql(\"\"\"\n",
    "SELECT celsius,\n",
    "transform(celsius, t -> ((t * 9) div 5) + 32) as fahrenheit\n",
    "      FROM tC\n",
    "\"\"\").show()"
   ]
  },
  {
   "cell_type": "markdown",
   "id": "3de27be8",
   "metadata": {},
   "source": [
    "filter()\n",
    "The filter() function produces an array consisting of only the elements of the input\n",
    "array for which the Boolean function is true:"
   ]
  },
  {
   "cell_type": "code",
   "execution_count": 21,
   "id": "0c6b4e6c",
   "metadata": {},
   "outputs": [
    {
     "name": "stdout",
     "output_type": "stream",
     "text": [
      "+--------------------+--------+\n",
      "|             celsius|    high|\n",
      "+--------------------+--------+\n",
      "|[35, 36, 32, 30, ...|[40, 42]|\n",
      "|[31, 32, 34, 55, 56]|[55, 56]|\n",
      "+--------------------+--------+\n",
      "\n"
     ]
    }
   ],
   "source": [
    "# Filter temperatures > 38C for array of temperatures spark.\n",
    "spark.sql(\"\"\"\n",
    "SELECT celsius,\n",
    "     filter(celsius, t -> t > 38) as high\n",
    "      FROM tC\n",
    "\"\"\").show()"
   ]
  },
  {
   "cell_type": "markdown",
   "id": "e294ee0d",
   "metadata": {},
   "source": [
    "exists() \n",
    "The exists() function returns true if the Boolean function holds for any element in\n",
    "the input array:"
   ]
  },
  {
   "cell_type": "code",
   "execution_count": 28,
   "id": "88282967",
   "metadata": {},
   "outputs": [
    {
     "name": "stdout",
     "output_type": "stream",
     "text": [
      "+--------------------+---------+\n",
      "|             celsius|threshold|\n",
      "+--------------------+---------+\n",
      "|[35, 36, 32, 30, ...|     true|\n",
      "|[31, 32, 34, 55, 56]|    false|\n",
      "+--------------------+---------+\n",
      "\n"
     ]
    }
   ],
   "source": [
    "# Is there a temperature of 38C in the array of temperatures \n",
    "spark.sql(\"\"\"\n",
    "SELECT celsius,\n",
    "           exists(celsius, t -> t = 38) as threshold\n",
    "      FROM tC\n",
    "\"\"\").show()"
   ]
  },
  {
   "cell_type": "markdown",
   "id": "95687d50",
   "metadata": {},
   "source": [
    "reduce()\n",
    "The reduce() function reduces the elements of the array to a single value by merging the elements into a buffer B using function<B, T, B> and applying a finishing function<B, R> on the final buffer:"
   ]
  },
  {
   "cell_type": "code",
   "execution_count": null,
   "id": "c909bce3",
   "metadata": {},
   "outputs": [],
   "source": [
    "# Calculate average temperature and convert to F \n",
    "spark.sql(\"\"\"\n",
    "SELECT celsius,\n",
    "           reduce(\n",
    "              celsius,\n",
    "              0,\n",
    "              (t, acc) -> t + acc,\n",
    "              acc -> (acc div size(celsius) * 9 div 5) + 32\n",
    "            ) as avgFahrenheit\n",
    "      FROM tC\n",
    "\"\"\").show()"
   ]
  },
  {
   "cell_type": "code",
   "execution_count": 40,
   "id": "dbba5389",
   "metadata": {},
   "outputs": [],
   "source": [
    "# Set file paths\n",
    "from pyspark.sql.functions import expr \n",
    "tripdelaysFilePath = \"/Users/allenc/PyCharmProjects/LearningSparkV2/databricks-datasets/learning-spark-v2/flights/flightsdeparturedelays.csv\"\n",
    "airportsnaFilePath = \"/Users/allenc/PyCharmProjects/LearningSparkV2/databricks-datasets/learning-spark-v2/flights/airport-codes-na.txt\""
   ]
  },
  {
   "cell_type": "code",
   "execution_count": 44,
   "id": "aec134e2",
   "metadata": {},
   "outputs": [],
   "source": [
    "# Obtain airports data set\n",
    "airportsna = (spark.read\n",
    ".format(\"csv\")\n",
    ".options(header=\"true\", inferSchema=\"true\", sep=\"\\t\") .load(airportsnaFilePath))\n",
    "airportsna.createOrReplaceTempView(\"airports_na\")"
   ]
  },
  {
   "cell_type": "code",
   "execution_count": null,
   "id": "5eedec2e",
   "metadata": {},
   "outputs": [],
   "source": [
    "# Obtain departure delays data set\n",
    "departureDelays = (spark.read\n",
    "    .format(\"csv\")\n",
    "    .options(header=\"true\")\n",
    "    .load(tripdelaysFilePath))\n",
    "departureDelays = (departureDelays\n",
    "    .withColumn(\"delay\", expr(\"CAST(delay as INT) as delay\"))\n",
    "    .withColumn(\"distance\", expr(\"CAST(distance as INT) as distance\")))\n",
    "departureDelays.createOrReplaceTempView(\"departureDelays\")"
   ]
  },
  {
   "cell_type": "code",
   "execution_count": null,
   "id": "cf4ada39",
   "metadata": {},
   "outputs": [],
   "source": [
    "# Createtemporary small table\n",
    "foo = (departureDelays\n",
    "    .filter(expr(\"\"\"origin == 'SEA' and destination == 'SFO' and date like '01010%' and delay > 0\"\"\")))\n",
    "foo.createOrReplaceTempView(\"foo\")"
   ]
  },
  {
   "cell_type": "code",
   "execution_count": 48,
   "id": "6943f0e7",
   "metadata": {},
   "outputs": [
    {
     "name": "stdout",
     "output_type": "stream",
     "text": [
      "+-----------+-----+-------+----+\n",
      "|       City|State|Country|IATA|\n",
      "+-----------+-----+-------+----+\n",
      "| Abbotsford|   BC| Canada| YXX|\n",
      "|   Aberdeen|   SD|    USA| ABR|\n",
      "|    Abilene|   TX|    USA| ABI|\n",
      "|      Akron|   OH|    USA| CAK|\n",
      "|    Alamosa|   CO|    USA| ALS|\n",
      "|     Albany|   GA|    USA| ABY|\n",
      "|     Albany|   NY|    USA| ALB|\n",
      "|Albuquerque|   NM|    USA| ABQ|\n",
      "| Alexandria|   LA|    USA| AEX|\n",
      "|  Allentown|   PA|    USA| ABE|\n",
      "+-----------+-----+-------+----+\n",
      "\n"
     ]
    }
   ],
   "source": [
    "spark.sql(\"SELECT * FROM airports_na LIMIT 10\").show()"
   ]
  },
  {
   "cell_type": "code",
   "execution_count": 50,
   "id": "5dbd2fa8",
   "metadata": {},
   "outputs": [],
   "source": [
    "# spark.sql(\"SELECT * FROM departureDelays LIMIT 10\").show()"
   ]
  },
  {
   "cell_type": "code",
   "execution_count": 52,
   "id": "558e07a6",
   "metadata": {},
   "outputs": [],
   "source": [
    "# spark.sql(\"SELECT * FROM foo\").show()"
   ]
  },
  {
   "cell_type": "markdown",
   "id": "ed8f3f0d",
   "metadata": {},
   "source": [
    "# Unions"
   ]
  },
  {
   "cell_type": "markdown",
   "id": "72662361",
   "metadata": {},
   "source": [
    "A common pattern within Apache Spark is to union two different DataFrames with the same schema together. This can be achieved using the union() method:"
   ]
  },
  {
   "cell_type": "code",
   "execution_count": null,
   "id": "eadfdfcd",
   "metadata": {},
   "outputs": [],
   "source": [
    "# Union two tables\n",
    "bar = departureDelays.union(foo) \n",
    "bar.createOrReplaceTempView(\"bar\")"
   ]
  },
  {
   "cell_type": "code",
   "execution_count": null,
   "id": "41934943",
   "metadata": {},
   "outputs": [],
   "source": [
    "# Show the union (filtering for SEA and SFO in a specific time range)\n",
    "bar.filter(expr(\"\"\"origin == 'SEA' AND destination == 'SFO'\n",
    "AND date LIKE '01010%' AND delay > 0\"\"\")).show()"
   ]
  },
  {
   "cell_type": "code",
   "execution_count": null,
   "id": "88befe14",
   "metadata": {},
   "outputs": [],
   "source": []
  },
  {
   "cell_type": "code",
   "execution_count": null,
   "id": "6df5d50b",
   "metadata": {},
   "outputs": [],
   "source": []
  },
  {
   "cell_type": "code",
   "execution_count": null,
   "id": "1f701ccd",
   "metadata": {},
   "outputs": [],
   "source": []
  },
  {
   "cell_type": "code",
   "execution_count": null,
   "id": "83c73f02",
   "metadata": {},
   "outputs": [],
   "source": []
  },
  {
   "cell_type": "code",
   "execution_count": null,
   "id": "59a4025e",
   "metadata": {},
   "outputs": [],
   "source": []
  },
  {
   "cell_type": "code",
   "execution_count": null,
   "id": "763ea62e",
   "metadata": {},
   "outputs": [],
   "source": []
  }
 ],
 "metadata": {
  "kernelspec": {
   "display_name": "Python 3 (ipykernel)",
   "language": "python",
   "name": "python3"
  },
  "language_info": {
   "codemirror_mode": {
    "name": "ipython",
    "version": 3
   },
   "file_extension": ".py",
   "mimetype": "text/x-python",
   "name": "python",
   "nbconvert_exporter": "python",
   "pygments_lexer": "ipython3",
   "version": "3.9.10"
  }
 },
 "nbformat": 4,
 "nbformat_minor": 5
}
